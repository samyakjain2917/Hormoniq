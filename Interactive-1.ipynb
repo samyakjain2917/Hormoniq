{
 "cells": [
  {
   "cell_type": "markdown",
   "metadata": {},
   "source": [
    "Connected to Python 3.13.2"
   ]
  },
  {
   "cell_type": "code",
   "execution_count": null,
   "id": "6c50671c-e4f2-42e0-9a16-5c9436299212",
   "metadata": {},
   "outputs": [
    {
     "ename": "ModuleNotFoundError",
     "evalue": "No module named 'pandas'",
     "output_type": "error",
     "traceback": [
      "\u001b[31m---------------------------------------------------------------------------\u001b[39m",
      "\u001b[31mModuleNotFoundError\u001b[39m                       Traceback (most recent call last)",
      "\u001b[36mCell\u001b[39m\u001b[36m \u001b[39m\u001b[32mIn[1]\u001b[39m\u001b[32m, line 3\u001b[39m\n\u001b[32m      1\u001b[39m \u001b[38;5;66;03m# pcos_model_training.py\u001b[39;00m\n\u001b[32m----> \u001b[39m\u001b[32m3\u001b[39m \u001b[38;5;28;01mimport\u001b[39;00m\u001b[38;5;250m \u001b[39m\u001b[34;01mpandas\u001b[39;00m\u001b[38;5;250m \u001b[39m\u001b[38;5;28;01mas\u001b[39;00m\u001b[38;5;250m \u001b[39m\u001b[34;01mpd\u001b[39;00m\n\u001b[32m      4\u001b[39m \u001b[38;5;28;01mfrom\u001b[39;00m\u001b[38;5;250m \u001b[39m\u001b[34;01msklearn\u001b[39;00m\u001b[34;01m.\u001b[39;00m\u001b[34;01mmodel_selection\u001b[39;00m\u001b[38;5;250m \u001b[39m\u001b[38;5;28;01mimport\u001b[39;00m train_test_split\n\u001b[32m      5\u001b[39m \u001b[38;5;28;01mfrom\u001b[39;00m\u001b[38;5;250m \u001b[39m\u001b[34;01msklearn\u001b[39;00m\u001b[34;01m.\u001b[39;00m\u001b[34;01mensemble\u001b[39;00m\u001b[38;5;250m \u001b[39m\u001b[38;5;28;01mimport\u001b[39;00m RandomForestClassifier\n",
      "\u001b[31mModuleNotFoundError\u001b[39m: No module named 'pandas'"
     ]
    }
   ],
   "source": [
    "# pcos_model_training.py\n",
    "\n",
    "import pandas as pd\n",
    "from sklearn.model_selection import train_test_split\n",
    "from sklearn.ensemble import RandomForestClassifier\n",
    "from sklearn.preprocessing import LabelEncoder\n",
    "from sklearn.metrics import accuracy_score, classification_report\n",
    "import joblib\n",
    "\n",
    "# Step 1: Load the dataset\n",
    "df = pd.read_csv(\"PCOS_data.csv\")  # Replace with your actual CSV filename\n",
    "\n",
    "# Optional: Drop irrelevant columns (if present)\n",
    "df = df.drop(columns=['Sl. No', 'Patient File No.'], errors='ignore')\n",
    "\n",
    "# Step 2: Handle missing values (basic cleaning)\n",
    "df = df.dropna()\n",
    "\n",
    "# Step 3: Encode categorical features (Y/N → 1/0)\n",
    "binary_columns = ['Hair growth(Y/N)', 'Skin darkening (Y/N)', 'Fast food (Y/N)',\n",
    "                  'Pimples(Y/N)', 'Weight gain(Y/N)', 'Cycle(R/I)', 'Exercise(Y/N)']\n",
    "\n",
    "label_enc = LabelEncoder()\n",
    "for col in binary_columns:\n",
    "    if col in df.columns:\n",
    "        df[col] = label_enc.fit_transform(df[col])\n",
    "\n",
    "# Step 4: Select features (X) and target (y)\n",
    "features = ['Age (yrs)', 'Weight (Kg)', 'BMI', 'Cycle length(days)',\n",
    "            'Hair growth(Y/N)', 'Skin darkening (Y/N)', 'Fast food (Y/N)', \n",
    "            'Pimples(Y/N)', 'Exercise(Y/N)']\n",
    "\n",
    "target = 'PCOS (Y/N)'  # 1 = PCOS, 0 = No PCOS\n",
    "\n",
    "X = df[features]\n",
    "y = df[target]\n",
    "\n",
    "# Step 5: Split into train/test sets\n",
    "X_train, X_test, y_train, y_test = train_test_split(X, y, test_size=0.2, random_state=42)\n",
    "\n",
    "# Step 6: Train the Random Forest model\n",
    "model = RandomForestClassifier(n_estimators=100, random_state=42)\n",
    "model.fit(X_train, y_train)\n",
    "\n",
    "# Step 7: Evaluate the model\n",
    "y_pred = model.predict(X_test)\n",
    "accuracy = accuracy_score(y_test, y_pred)\n",
    "\n",
    "print(f\"\\n✅ Model trained successfully!\")\n",
    "print(f\"🔍 Accuracy: {accuracy * 100:.2f}%\")\n",
    "print(\"📊 Classification Report:\")\n",
    "print(classification_report(y_test, y_pred))\n",
    "\n",
    "# Step 8: Save the trained model\n",
    "joblib.dump(model, \"pcos_rf_model.pkl\")\n",
    "print(\"💾 Model saved as 'pcos_rf_model.pkl'\")"
   ]
  },
  {
   "cell_type": "code",
   "execution_count": null,
   "id": "d2065751-2790-4bde-8277-b65ce055931f",
   "metadata": {},
   "outputs": [
    {
     "ename": "ModuleNotFoundError",
     "evalue": "No module named 'pandas'",
     "output_type": "error",
     "traceback": [
      "\u001b[31m---------------------------------------------------------------------------\u001b[39m",
      "\u001b[31mModuleNotFoundError\u001b[39m                       Traceback (most recent call last)",
      "\u001b[36mCell\u001b[39m\u001b[36m \u001b[39m\u001b[32mIn[2]\u001b[39m\u001b[32m, line 3\u001b[39m\n\u001b[32m      1\u001b[39m \u001b[38;5;66;03m# pcos_model_training.py\u001b[39;00m\n\u001b[32m----> \u001b[39m\u001b[32m3\u001b[39m \u001b[38;5;28;01mimport\u001b[39;00m\u001b[38;5;250m \u001b[39m\u001b[34;01mpandas\u001b[39;00m\u001b[38;5;250m \u001b[39m\u001b[38;5;28;01mas\u001b[39;00m\u001b[38;5;250m \u001b[39m\u001b[34;01mpd\u001b[39;00m\n\u001b[32m      4\u001b[39m \u001b[38;5;28;01mfrom\u001b[39;00m\u001b[38;5;250m \u001b[39m\u001b[34;01msklearn\u001b[39;00m\u001b[34;01m.\u001b[39;00m\u001b[34;01mmodel_selection\u001b[39;00m\u001b[38;5;250m \u001b[39m\u001b[38;5;28;01mimport\u001b[39;00m train_test_split\n\u001b[32m      5\u001b[39m \u001b[38;5;28;01mfrom\u001b[39;00m\u001b[38;5;250m \u001b[39m\u001b[34;01msklearn\u001b[39;00m\u001b[34;01m.\u001b[39;00m\u001b[34;01mensemble\u001b[39;00m\u001b[38;5;250m \u001b[39m\u001b[38;5;28;01mimport\u001b[39;00m RandomForestClassifier\n",
      "\u001b[31mModuleNotFoundError\u001b[39m: No module named 'pandas'"
     ]
    }
   ],
   "source": [
    "# pcos_model_training.py\n",
    "\n",
    "import pandas as pd\n",
    "from sklearn.model_selection import train_test_split\n",
    "from sklearn.ensemble import RandomForestClassifier\n",
    "from sklearn.preprocessing import LabelEncoder\n",
    "from sklearn.metrics import accuracy_score, classification_report\n",
    "import joblib\n",
    "\n",
    "# Step 1: Load the dataset\n",
    "df = pd.read_csv(\"PCOS_data.csv\")  # Replace with your actual CSV filename\n",
    "\n",
    "# Optional: Drop irrelevant columns (if present)\n",
    "df = df.drop(columns=['Sl. No', 'Patient File No.'], errors='ignore')\n",
    "\n",
    "# Step 2: Handle missing values (basic cleaning)\n",
    "df = df.dropna()\n",
    "\n",
    "# Step 3: Encode categorical features (Y/N → 1/0)\n",
    "binary_columns = ['Hair growth(Y/N)', 'Skin darkening (Y/N)', 'Fast food (Y/N)',\n",
    "                  'Pimples(Y/N)', 'Weight gain(Y/N)', 'Cycle(R/I)', 'Exercise(Y/N)']\n",
    "\n",
    "label_enc = LabelEncoder()\n",
    "for col in binary_columns:\n",
    "    if col in df.columns:\n",
    "        df[col] = label_enc.fit_transform(df[col])\n",
    "\n",
    "# Step 4: Select features (X) and target (y)\n",
    "features = ['Age (yrs)', 'Weight (Kg)', 'BMI', 'Cycle length(days)',\n",
    "            'Hair growth(Y/N)', 'Skin darkening (Y/N)', 'Fast food (Y/N)', \n",
    "            'Pimples(Y/N)', 'Exercise(Y/N)']\n",
    "\n",
    "target = 'PCOS (Y/N)'  # 1 = PCOS, 0 = No PCOS\n",
    "\n",
    "X = df[features]\n",
    "y = df[target]\n",
    "\n",
    "# Step 5: Split into train/test sets\n",
    "X_train, X_test, y_train, y_test = train_test_split(X, y, test_size=0.2, random_state=42)\n",
    "\n",
    "# Step 6: Train the Random Forest model\n",
    "model = RandomForestClassifier(n_estimators=100, random_state=42)\n",
    "model.fit(X_train, y_train)\n",
    "\n",
    "# Step 7: Evaluate the model\n",
    "y_pred = model.predict(X_test)\n",
    "accuracy = accuracy_score(y_test, y_pred)\n",
    "\n",
    "print(f\"\\n✅ Model trained successfully!\")\n",
    "print(f\"🔍 Accuracy: {accuracy * 100:.2f}%\")\n",
    "print(\"📊 Classification Report:\")\n",
    "print(classification_report(y_test, y_pred))\n",
    "\n",
    "# Step 8: Save the trained model\n",
    "joblib.dump(model, \"pcos_rf_model.pkl\")\n",
    "print(\"💾 Model saved as 'pcos_rf_model.pkl'\")"
   ]
  },
  {
   "cell_type": "code",
   "execution_count": null,
   "id": "bc06c8a8-58f9-4efb-91e1-0926bebc6696",
   "metadata": {},
   "outputs": [
    {
     "ename": "SyntaxError",
     "evalue": "invalid syntax (<ipython-input-3-cadaf417d267>, line 39)",
     "output_type": "error",
     "traceback": [
      "  \u001b[36mCell\u001b[39m\u001b[36m \u001b[39m\u001b[32mIn[3]\u001b[39m\u001b[32m, line 39\u001b[39m\n\u001b[31m    \u001b[39m\u001b[31mfeatures =\u001b[39m\n              ^\n\u001b[31mSyntaxError\u001b[39m\u001b[31m:\u001b[39m invalid syntax\n"
     ]
    }
   ],
   "source": [
    "# pcos_model_training_debugged.py\n",
    "\n",
    "import pandas as pd\n",
    "from sklearn.model_selection import train_test_split\n",
    "from sklearn.ensemble import RandomForestClassifier\n",
    "from sklearn.preprocessing import LabelEncoder\n",
    "from sklearn.metrics import accuracy_score, classification_report\n",
    "import joblib\n",
    "\n",
    "# Step 1: Load dataset\n",
    "try:\n",
    "    df = pd.read_csv(\"PCOS_data.csv\")  # Make sure this file is in the same directory\n",
    "    print(\"✅ Dataset loaded successfully.\")\n",
    "except FileNotFoundError:\n",
    "    print(\"❌ Error: 'PCOS_data.csv' not found. Please check the file path.\")\n",
    "    exit()\n",
    "\n",
    "# Step 2: Drop irrelevant columns if they exist\n",
    "df.drop(columns=['Sl. No', 'Patient File No.'], inplace=True, errors='ignore')\n",
    "\n",
    "# Step 3: Clean data - drop rows with missing values\n",
    "df.dropna(inplace=True)\n",
    "print(f\"📊 Remaining data rows after dropping NA: {len(df)}\")\n",
    "\n",
    "# Step 4: Encode binary (Y/N) columns if present\n",
    "binary_columns = ['Hair growth(Y/N)', 'Skin darkening (Y/N)', 'Fast food (Y/N)',\n",
    "                  'Pimples(Y/N)', 'Weight gain(Y/N)', 'Cycle(R/I)', 'Exercise(Y/N)']\n",
    "\n",
    "label_enc = LabelEncoder()\n",
    "for col in binary_columns:\n",
    "    if col in df.columns:\n",
    "        df[col] = label_enc.fit_transform(df[col])\n",
    "        print(f\"🔁 Encoded column: {col}\")\n",
    "    else:\n",
    "        print(f\"⚠️ Column missing (skipped): {col}\")\n",
    "\n",
    "# Step 5: Select features and label\n",
    "# Check for missing features\n",
    "features ="
   ]
  },
  {
   "cell_type": "markdown",
   "metadata": {},
   "source": [
    "No kernel connected"
   ]
  }
 ],
 "metadata": {
  "kernelspec": {
   "display_name": "Python 3",
   "language": "python",
   "name": "python3"
  },
  "language_info": {
   "name": "python",
   "version": "3.13.2"
  }
 },
 "nbformat": 4,
 "nbformat_minor": 5
}
